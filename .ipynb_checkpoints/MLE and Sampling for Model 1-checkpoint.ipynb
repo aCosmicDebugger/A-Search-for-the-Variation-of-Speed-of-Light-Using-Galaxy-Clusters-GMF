{
 "cells": [
  {
   "cell_type": "code",
   "execution_count": 6,
   "id": "4ba867ba",
   "metadata": {},
   "outputs": [],
   "source": [
    "import numpy as np\n",
    "import pandas as pd\n",
    "import matplotlib.patches as mpatches\n",
    "import matplotlib.pyplot as plt\n",
    "import scipy.integrate as si \n",
    "import scipy.optimize\n",
    "import emcee\n",
    "import getdist\n",
    "import corner\n",
    "import warnings\n",
    "warnings.filterwarnings(\"ignore\")\n",
    "\n",
    "from getdist import plots, MCSamples\n",
    "from scipy.optimize import minimize\n",
    "from HzFid import H_th\n"
   ]
  },
  {
   "cell_type": "markdown",
   "id": "0a5319b6",
   "metadata": {},
   "source": [
    "# Constantes Físicas e algumas variáveis globais"
   ]
  },
  {
   "cell_type": "code",
   "execution_count": 7,
   "id": "bcd27453",
   "metadata": {},
   "outputs": [],
   "source": [
    "# Velocidade da luz em [km/s]\n",
    "vel_c = 299792.4580 \n",
    "\n",
    "# Temperatura da CMB em [K], erro de ± 0.002 ver Fixsen 2009 DOI:10.1088/0004-637X/707/2/916\n",
    "T_0_cmb = 2.725\n",
    "\n",
    "# Parâmetro de densidade da radiação eletromagnética x h2 ver eq. 8 https://arxiv.org/abs/1411.1074 \n",
    "Omega_em_h2 = (4.482*10**(-7.0))*T_0_cmb**4.0 \n",
    "\n",
    "# Número efetivo de neutrinos\n",
    "Neff = 3.046\n",
    "\n",
    "# Parâmetro de densidade total da radiação (E.M. + Neutrinos) x h2\n",
    "Omega_r_h2 = Omega_em_h2*(1.0+0.2271*Neff)\n",
    "\n",
    "# K(z) que é a \"calibration Constant\" no modelo da fração de massa do gás, e o erro =  ± 0.12\n",
    "Kz = 0.96\n",
    "\n",
    "# Parâmetro de densidade bariônica e o erro ± 0.0039\n",
    "omega_b = 0.0493\n",
    "\n",
    "# Parâmetro de densidade de matéria e o erro ± 0.0073\n",
    "omega_m = 0.3153\n",
    "\n",
    "# Fator de depleção constante  e o erro ± 0.08\n",
    "gamma = 0.85 "
   ]
  },
  {
   "cell_type": "markdown",
   "id": "04fa4a39",
   "metadata": {},
   "source": [
    "# Gas Mass Fraction"
   ]
  },
  {
   "cell_type": "markdown",
   "id": "5e379f68",
   "metadata": {},
   "source": [
    "Considerando o aglomerado de galáxias como uma representação fidedigna do universo, i.e., um amostra representativa, a fração de massa do aglomerado pode ser modelada como:\n",
    "\n",
    "$$ f^{\\text{X-ray}}_{\\text{gas}} = N\\, \\left[ \\frac{ \\Omega_{b}(z) }{ \\Omega_{m}(z) } \\right] \\,\\,\\, , $$\n",
    "\n",
    "onde $N$ é um fator de depende do modelo cosmológico e algumas características do modelo de cluster, além disso como $\\Omega_{b}$ e $\\Omega_{m}$ tem mesma dependência no fator de escala $a$,  a razão $ \\frac{ \\Omega_{b}(z) }{ \\Omega_{m}(z) } $ é independente do redshift. Usando o $N$ como dado na eq. (2) de [Mantz et al](https://arxiv.org/abs/1402.6212) e sabendo que, $f^{\\text{th} }_{\\text{gas} } = \\eta^{-3} f^{\\text{obs} }_{\\text{gas} }$, podemos escrever $f^{\\text{X-ray} }_{\\text{gas}}$ como:\n",
    "\n",
    "\n",
    " $$ \n",
    "f_{\\text{gas}}^{\\text{X-ray}}\\left( z\\right) = A(z)\\, K(z)\\, \\gamma (z)\\, \\frac{\\Omega _{\\text{b}}}{\\Omega _{\\text{m}}} \\, \\phi^{3/2}(z)  \\left[ \\frac{d_{L}^{\\text{fid}}\\left( z\\right) }{d_{L}\\left( z\\right) }\\right] ^{\\frac{\\,3}{2}} \\ , \\label{Eq fgas}\n",
    "$$ \n",
    "\n",
    "\n",
    "A função A(z) é:\n",
    "\n",
    "$$\n",
    "A(z)=\\left[\\frac{H(z)D_{A}(z)}{H^{\\text{fid}}(z)D^{\\text{fid}}_{A}(z)} \\right]^{\\theta} \\ \\ \\text{com} \\ \\ \\theta =0.442 \n",
    "$$"
   ]
  },
  {
   "cell_type": "markdown",
   "id": "5182a77c",
   "metadata": {},
   "source": [
    "Definimos as funções A(z) e \\bar{f}_{gas}$ para nosso uso"
   ]
  },
  {
   "cell_type": "code",
   "execution_count": 11,
   "id": "28097157",
   "metadata": {},
   "outputs": [],
   "source": [
    "def Az(dL_obs, dL_fid, H_obs, H_fid):\n",
    "    '''\n",
    "    A_z calcula a função A(z) que depende do parâmetro theta.\n",
    "    \n",
    "    '''\n",
    "\n",
    "    theta = 0.442\n",
    "    \n",
    "    return ( (H_obs*dL_obs)/(H_fid*dL_fid) )**theta"
   ]
  },
  {
   "cell_type": "code",
   "execution_count": 12,
   "id": "74646237",
   "metadata": {},
   "outputs": [],
   "source": [
    "def Fgas_th(dL_obs, dL_fid, A, gamma_0, k):\n",
    "    '''\n",
    "    Fgas_th é a expressão teórica para a fração de massa do gás\n",
    "    \n",
    "    '''\n",
    "    omega_b = 0.0493\n",
    "    omega_m = 0.3153\n",
    "        \n",
    "    return (           gamma_0*K*A*(omega_b/omega_m)*((dL_fid/dL_obs)**(3.0/2.0))          )"
   ]
  },
  {
   "cell_type": "markdown",
   "id": "0466454a",
   "metadata": {},
   "source": [
    "## Dados de fração de massa"
   ]
  },
  {
   "cell_type": "code",
   "execution_count": 13,
   "id": "b38ec6b1",
   "metadata": {},
   "outputs": [],
   "source": [
    "f_gas_data = pd.read_csv('GMF.csv')\n",
    "f_gas_array = np.array(f_gas_data)"
   ]
  },
  {
   "cell_type": "code",
   "execution_count": 14,
   "id": "ed052a93",
   "metadata": {},
   "outputs": [],
   "source": [
    "z = f_gas_array[0:,0]\n",
    "fgas = f_gas_array[0:,1]\n",
    "fgas_erro = f_gas_array[0:,2]"
   ]
  },
  {
   "cell_type": "code",
   "execution_count": 15,
   "id": "d62e0785",
   "metadata": {},
   "outputs": [
    {
     "data": {
      "text/plain": [
       "(0.038, 1.113)"
      ]
     },
     "execution_count": 15,
     "metadata": {},
     "output_type": "execute_result"
    },
    {
     "data": {
      "image/png": "[encoded data removed]",
      "text/plain": [
       "<Figure size 1000x600 with 1 Axes>"
      ]
     },
     "metadata": {},
     "output_type": "display_data"
    }
   ],
   "source": [
    "fig, ax = plt.subplots(figsize=(10,6))\n",
    "plt.errorbar(z, fgas, yerr=fgas_erro, color='black', label = r'$Dados\\, de\\, f_{gás}$', fmt=\"o\")\n",
    "ax.set(title=\"Plot de 40 observações da fração de massa do gás de Aglomerados de Galáxias\")\n",
    "plt.axhline(y = np.mean(fgas), color = 'blue', linestyle = '--') \n",
    "plt.xlabel('z', fontsize=21, fontweight='bold')\n",
    "plt.ylabel(r'$\\, f_{gás} \\, $', fontsize=21, fontweight='bold')\n",
    "ax.legend(loc='upper right')\n",
    "plt.xlim([z.min()-0.04,z.max()+0.05])"
   ]
  },
  {
   "cell_type": "markdown",
   "id": "b9766aad",
   "metadata": {},
   "source": [
    "Com as definições das funções para a fração de massa e a abertura angular junto aos dados partimos para a criação das listas da distância de luminosidade $d_{L}$ fiducial (usando $\\Lambda$-CDM) e os parâmetros de abertura $A(z)$ para cada um dos priors ( Cronômetros Cósmicos, Ries e Planck)."
   ]
  },
  {
   "cell_type": "markdown",
   "id": "923bf582",
   "metadata": {},
   "source": [
    "## Dados de Distância de Luminosidade"
   ]
  },
  {
   "cell_type": "markdown",
   "id": "edebb934",
   "metadata": {},
   "source": [
    "Usando o modelo fiducial calculamos das distâncias de luminosidade para cada redshift contido nas observações de fração de massa do gás."
   ]
  },
  {
   "cell_type": "code",
   "execution_count": 17,
   "id": "964de52c",
   "metadata": {},
   "outputs": [],
   "source": [
    "def dL_th(omega_k, z):\n",
    "    '''\n",
    "    Calcula a distância de luminosidade, d_{L} como função dos parâmetros cosmológicos.\n",
    "    \n",
    "    '''\n",
    "    int_DC = lambda z_star, omega_m, omega_k, h, w_x : vel_c/H_th(z_star)\n",
    "    \n",
    "    DC, erro_DC =   si.quad(int_DC, 0, z)\n",
    "    \n",
    "    if omega_k < 0 :\n",
    "        return (1.0+z)*(vel_c/(100.0*h*np.sqrt(np.abs(omega_k))))\\\n",
    "    *np.sin((100.0*h*np.sqrt(np.abs(omega_k))/vel_c)*DC)\n",
    "    \n",
    "    elif omega_k > 0 :\n",
    "        return (1.0+z)*(vel_c/(100.0*h*np.sqrt(np.abs(omega_k))))\\\n",
    "    *np.sinh((100.0*h*np.sqrt(np.abs(omega_k))/vel_c)*DC)\n",
    "    \n",
    "    else:\n",
    "        return (1.0+z)*DC\n"
   ]
  },
  {
   "cell_type": "code",
   "execution_count": 18,
   "id": "12f61ec8",
   "metadata": {},
   "outputs": [
    {
     "ename": "NameError",
     "evalue": "name 'si' is not defined",
     "output_type": "error",
     "traceback": [
      "\u001b[0;31m---------------------------------------------------------------------------\u001b[0m",
      "\u001b[0;31mNameError\u001b[0m                                 Traceback (most recent call last)",
      "Cell \u001b[0;32mIn[18], line 1\u001b[0m\n\u001b[0;32m----> 1\u001b[0m dL_fid \u001b[38;5;241m=\u001b[39m \u001b[43mdL_th\u001b[49m\u001b[43m(\u001b[49m\u001b[38;5;241;43m0\u001b[39;49m\u001b[43m,\u001b[49m\u001b[43mz\u001b[49m\u001b[43m)\u001b[49m\n",
      "Cell \u001b[0;32mIn[17], line 8\u001b[0m, in \u001b[0;36mdL_th\u001b[0;34m(omega_k, z)\u001b[0m\n\u001b[1;32m      2\u001b[0m \u001b[38;5;250m\u001b[39m\u001b[38;5;124;03m'''\u001b[39;00m\n\u001b[1;32m      3\u001b[0m \u001b[38;5;124;03mCalcula a distância de luminosidade, d_{L} como função dos parâmetros cosmológicos.\u001b[39;00m\n\u001b[1;32m      4\u001b[0m \u001b[38;5;124;03m\u001b[39;00m\n\u001b[1;32m      5\u001b[0m \u001b[38;5;124;03m'''\u001b[39;00m\n\u001b[1;32m      6\u001b[0m int_DC \u001b[38;5;241m=\u001b[39m \u001b[38;5;28;01mlambda\u001b[39;00m z_star, omega_m, omega_k, h, w_x : vel_c\u001b[38;5;241m/\u001b[39mH_th(z_star)\n\u001b[0;32m----> 8\u001b[0m DC, erro_DC \u001b[38;5;241m=\u001b[39m   \u001b[43msi\u001b[49m\u001b[38;5;241m.\u001b[39mquad(int_DC, \u001b[38;5;241m0\u001b[39m, z)\n\u001b[1;32m     10\u001b[0m \u001b[38;5;28;01mif\u001b[39;00m omega_k \u001b[38;5;241m<\u001b[39m \u001b[38;5;241m0\u001b[39m :\n\u001b[1;32m     11\u001b[0m     \u001b[38;5;28;01mreturn\u001b[39;00m (\u001b[38;5;241m1.0\u001b[39m\u001b[38;5;241m+\u001b[39mz)\u001b[38;5;241m*\u001b[39m(vel_c\u001b[38;5;241m/\u001b[39m(\u001b[38;5;241m100.0\u001b[39m\u001b[38;5;241m*\u001b[39mh\u001b[38;5;241m*\u001b[39mnp\u001b[38;5;241m.\u001b[39msqrt(np\u001b[38;5;241m.\u001b[39mabs(omega_k))))\\\n\u001b[1;32m     12\u001b[0m \u001b[38;5;241m*\u001b[39mnp\u001b[38;5;241m.\u001b[39msin((\u001b[38;5;241m100.0\u001b[39m\u001b[38;5;241m*\u001b[39mh\u001b[38;5;241m*\u001b[39mnp\u001b[38;5;241m.\u001b[39msqrt(np\u001b[38;5;241m.\u001b[39mabs(omega_k))\u001b[38;5;241m/\u001b[39mvel_c)\u001b[38;5;241m*\u001b[39mDC)\n",
      "\u001b[0;31mNameError\u001b[0m: name 'si' is not defined"
     ]
    }
   ],
   "source": [
    "dL_fid = dL_th(0,z)"
   ]
  },
  {
   "cell_type": "markdown",
   "id": "6e6da967",
   "metadata": {},
   "source": []
  },
  {
   "cell_type": "code",
   "execution_count": 2,
   "id": "b307a720",
   "metadata": {},
   "outputs": [],
   "source": []
  },
  {
   "cell_type": "code",
   "execution_count": 3,
   "id": "6062afe1",
   "metadata": {},
   "outputs": [],
   "source": []
  },
  {
   "cell_type": "code",
   "execution_count": null,
   "id": "e45c15fe",
   "metadata": {},
   "outputs": [],
   "source": []
  }
 ],
 "metadata": {
  "kernelspec": {
   "display_name": "Python 3 (ipykernel)",
   "language": "python",
   "name": "python3"
  },
  "language_info": {
   "codemirror_mode": {
    "name": "ipython",
    "version": 3
   },
   "file_extension": ".py",
   "mimetype": "text/x-python",
   "name": "python",
   "nbconvert_exporter": "python",
   "pygments_lexer": "ipython3",
   "version": "3.11.4"
  }
 },
 "nbformat": 4,
 "nbformat_minor": 5
}
