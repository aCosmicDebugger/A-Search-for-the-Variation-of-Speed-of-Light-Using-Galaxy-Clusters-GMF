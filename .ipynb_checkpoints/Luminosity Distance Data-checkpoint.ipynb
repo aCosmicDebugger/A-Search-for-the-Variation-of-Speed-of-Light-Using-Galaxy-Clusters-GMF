{
 "cells": [
  {
   "cell_type": "code",
   "execution_count": 3,
   "id": "55edee45",
   "metadata": {},
   "outputs": [],
   "source": [
    "import numpy as np\n",
    "import pandas as pd\n",
    "import matplotlib.pyplot as plt\n",
    "import scipy.integrate as si\n",
    "\n",
    "from HzGPR import H_GPR\n",
    "\n",
    "import warnings\n",
    "warnings.filterwarnings(\"ignore\")"
   ]
  },
  {
   "cell_type": "markdown",
   "id": "7867f693",
   "metadata": {},
   "source": [
    "# Dados de Supernova Tipo IA"
   ]
  },
  {
   "cell_type": "markdown",
   "id": "30b1ac84",
   "metadata": {},
   "source": [
    "We use the dataset provided by [Scolnic 2018](https://arxiv.org/pdf/1710.00845.pdf) which the latest state of the art sample of SNe Ia measurements available in literature. Consisting of 1049 spectroscopically confirmed SNe Ia covering a redshift range of \n",
    "\n",
    "$$ \n",
    "0.01 \\leq z \\leq  2.3 \n",
    "$$"
   ]
  },
  {
   "cell_type": "code",
   "execution_count": 4,
   "id": "c0976ff8",
   "metadata": {},
   "outputs": [],
   "source": [
    "medidas_SNeIA = pd.read_csv('MeasuredSNeIADistances.csv', index_col=0)"
   ]
  },
  {
   "cell_type": "code",
   "execution_count": 5,
   "id": "4f0f9597",
   "metadata": {},
   "outputs": [
    {
     "data": {
      "text/html": [
       "<div>\n",
       "<style scoped>\n",
       "    .dataframe tbody tr th:only-of-type {\n",
       "        vertical-align: middle;\n",
       "    }\n",
       "\n",
       "    .dataframe tbody tr th {\n",
       "        vertical-align: top;\n",
       "    }\n",
       "\n",
       "    .dataframe thead th {\n",
       "        text-align: right;\n",
       "    }\n",
       "</style>\n",
       "<table border=\"1\" class=\"dataframe\">\n",
       "  <thead>\n",
       "    <tr style=\"text-align: right;\">\n",
       "      <th></th>\n",
       "      <th>name</th>\n",
       "      <th>z_cmb</th>\n",
       "      <th>m_b</th>\n",
       "      <th>dm_b</th>\n",
       "    </tr>\n",
       "  </thead>\n",
       "  <tbody>\n",
       "    <tr>\n",
       "      <th>0</th>\n",
       "      <td>03D1au</td>\n",
       "      <td>0.50309</td>\n",
       "      <td>22.93445</td>\n",
       "      <td>0.12605</td>\n",
       "    </tr>\n",
       "    <tr>\n",
       "      <th>1</th>\n",
       "      <td>03D1ax</td>\n",
       "      <td>0.49480</td>\n",
       "      <td>22.88020</td>\n",
       "      <td>0.11765</td>\n",
       "    </tr>\n",
       "    <tr>\n",
       "      <th>2</th>\n",
       "      <td>03D1co</td>\n",
       "      <td>0.67767</td>\n",
       "      <td>24.03770</td>\n",
       "      <td>0.20560</td>\n",
       "    </tr>\n",
       "    <tr>\n",
       "      <th>3</th>\n",
       "      <td>03D1ew</td>\n",
       "      <td>0.86650</td>\n",
       "      <td>24.34685</td>\n",
       "      <td>0.17385</td>\n",
       "    </tr>\n",
       "    <tr>\n",
       "      <th>4</th>\n",
       "      <td>03D1fq</td>\n",
       "      <td>0.79857</td>\n",
       "      <td>24.36050</td>\n",
       "      <td>0.17435</td>\n",
       "    </tr>\n",
       "  </tbody>\n",
       "</table>\n",
       "</div>"
      ],
      "text/plain": [
       "     name    z_cmb       m_b     dm_b\n",
       "0  03D1au  0.50309  22.93445  0.12605\n",
       "1  03D1ax  0.49480  22.88020  0.11765\n",
       "2  03D1co  0.67767  24.03770  0.20560\n",
       "3  03D1ew  0.86650  24.34685  0.17385\n",
       "4  03D1fq  0.79857  24.36050  0.17435"
      ]
     },
     "execution_count": 5,
     "metadata": {},
     "output_type": "execute_result"
    }
   ],
   "source": [
    "medidas_SNeIA.head()"
   ]
  },
  {
   "cell_type": "markdown",
   "id": "a82cd0e2",
   "metadata": {},
   "source": [
    "However, to perform the appropriate tests, we must use SNe Ia at the same redshifts as that of the galaxy\n",
    "clusters. Actually, we reconstruct two sets of $d_{L}$ measurements from the sample. For the first sample, we consider the absolute magnitude obtained by assuming the Hubble constant provided by the Cepheids/SNe Ia estimates, $H_{0} =73.2 \\pm 1.42$ km/s/Mpc ([Ries 2021 ](https://arxiv.org/abs/2012.08534)) henceforth known as Riess\n",
    "prior. Where $M = -19.23 \\pm 0.04$.\n",
    "\n",
    "And the second one, is constructed by using Hubble constant estimated by the Planck Collaborations in the context of a $ \\Lambda$-CDM model, $H_{0} = 67.36 \\pm 0.54$ km/s/Mpc ([Planck 2018](https://doi.org/10.1051/0004-6361/201833910)) ( henceforth refered to as Planck Prior) where $M=-19.43\\pm 0.02$.\n",
    "\n",
    "We also use a third method, which consists of reconstructing the $d_{L}$ in a model-independent way, through the use of GPR on Cosmic Chronometer data. Allowing us to calculate $d_{L}$, \n",
    "\n",
    "$$\n",
    "d_{L} = \\left(1+z\\right) c \\int_{0}^{z} \\frac{dz^{'}}{H(z^{'})}\\,\\,\\, ,\n",
    "$$\n",
    "\n",
    "from the redshift data-points of the gass mass fraction dataset."
   ]
  },
  {
   "cell_type": "markdown",
   "id": "d925b73e",
   "metadata": {},
   "source": [
    "### Obtaining the distances using SNeIA data"
   ]
  },
  {
   "cell_type": "markdown",
   "id": "b7683072",
   "metadata": {},
   "source": [
    "Absolute magnitudes have dependence on $H_{0}$ ([1](https://www.astro.ljmu.ac.uk/~ikb/research/h-units.html)) in spite of this fact we choose to use in our models the absolute magnitude using $H_{0}$ from SNeIA estimate and $H_{0}$ reconstructed by Planck collaboration. Therefore in the equation,\n",
    "\n",
    "$$\n",
    "d_{L} = 10^{(m_{b}\\,\\, -\\, M \\,-\\, 25)/5}  \\,\\,\\,\\,\\, \\text{Mpc} \\,\\,\\, ,\n",
    "$$\n",
    "\n",
    "we're going to use:\n",
    "\n",
    "$$ \n",
    "M = -19.23  \\,\\,\\,\\,\\, \\text{for Ries $H_{0}$ estimate }\n",
    "$$\n",
    "\n",
    "\n",
    "$$\n",
    "M = -19.43 \\,\\,\\,\\,\\, \\text{for Planck $H_{0}$ reconstruction}\n",
    "$$"
   ]
  },
  {
   "cell_type": "code",
   "execution_count": 6,
   "id": "b0627615",
   "metadata": {},
   "outputs": [],
   "source": [
    "mb = medidas_SNeIA['m_b']\n",
    "redshift = medidas_SNeIA['z_cmb']"
   ]
  },
  {
   "cell_type": "code",
   "execution_count": 7,
   "id": "2f2a49aa",
   "metadata": {},
   "outputs": [],
   "source": [
    "dL_Ries = 10**((mb+19.23-25)/5)\n",
    "dL_Planck = 10**((mb+19.43-25)/5)"
   ]
  },
  {
   "cell_type": "code",
   "execution_count": 8,
   "id": "5f869ca4",
   "metadata": {},
   "outputs": [],
   "source": [
    "erro_ries =np.array(np.log(10)*(medidas_SNeIA['dm_b']+0.04))\n",
    "erro_planck = np.array(np.log(10)*(medidas_SNeIA['dm_b']+0.02))"
   ]
  },
  {
   "cell_type": "markdown",
   "id": "c8b1c7cb",
   "metadata": {},
   "source": [
    "We now have the distances and the redshifts, we're able to create a dataset off them. "
   ]
  },
  {
   "cell_type": "code",
   "execution_count": 11,
   "id": "b12544fa",
   "metadata": {},
   "outputs": [],
   "source": [
    "data_Ries = { 'z': redshift, 'dl_ries': dL_Ries, 'erro_ries': erro_ries}\n",
    "RiesPriors = pd.DataFrame(data_Ries)"
   ]
  },
  {
   "cell_type": "code",
   "execution_count": 12,
   "id": "8b26eb78",
   "metadata": {},
   "outputs": [],
   "source": [
    "data_Planck = { 'z': redshift, 'dl_planck': dL_Planck, 'erro_planck': erro_planck}\n",
    "PlanckPriors = pd.DataFrame(data_Planck)"
   ]
  },
  {
   "cell_type": "markdown",
   "id": "295a36eb",
   "metadata": {},
   "source": [
    "Let's see a plot of the distances:"
   ]
  },
  {
   "cell_type": "code",
   "execution_count": 13,
   "id": "52c6e961",
   "metadata": {},
   "outputs": [
    {
     "data": {
      "text/plain": [
       "<ErrorbarContainer object of 3 artists>"
      ]
     },
     "execution_count": 13,
     "metadata": {},
     "output_type": "execute_result"
    },
    {
     "data": {
      "image/png": "[encoded data removed]",
      "text/plain": [
       "<Figure size 640x480 with 1 Axes>"
      ]
     },
     "metadata": {},
     "output_type": "display_data"
    }
   ],
   "source": [
    "plt.errorbar(redshift, dL_Planck, yerr=erro_planck, fmt=\"o\", color='blue')\n",
    "plt.errorbar(redshift, dL_Ries, yerr=erro_ries, fmt=\"o\", color='orange')"
   ]
  },
  {
   "cell_type": "markdown",
   "id": "14c84755",
   "metadata": {},
   "source": [
    "### Obtaining the distances using Cosmic Chronometers:"
   ]
  },
  {
   "cell_type": "markdown",
   "id": "27b75a10",
   "metadata": {},
   "source": [
    "Now we calculate $d_{L}$ from cosmic chronometers and write our data:"
   ]
  },
  {
   "cell_type": "code",
   "execution_count": 15,
   "id": "33b68877",
   "metadata": {},
   "outputs": [],
   "source": [
    "def DC_CC(z):\n",
    "    '''\n",
    "    DC_CC calcula a distância comóvel usando a estimação pra H(z) \n",
    "    via processo Gaussiano de regressão (GPR)\n",
    "    '''\n",
    "    # Velocidade da luz em [km/s]\n",
    "    vel_c = 299792.4580 \n",
    "    \n",
    "    integrando = lambda z_star: vel_c/H_GPR(z_star)\n",
    "    \n",
    "    resultado = []\n",
    "    erro = []\n",
    "    for n in z:\n",
    "        resultado.append(si.quad(integrando,0,n)[0])\n",
    "        erro.append(si.quad(integrando,0,n)[1])\n",
    "    \n",
    "    r = np.array(resultado)\n",
    "    err = np.array(erro)\n",
    "    return r , err "
   ]
  },
  {
   "cell_type": "code",
   "execution_count": 16,
   "id": "cb7d2bac",
   "metadata": {},
   "outputs": [],
   "source": [
    "dC , erro_dC = DC_CC(redshift)"
   ]
  },
  {
   "cell_type": "code",
   "execution_count": 22,
   "id": "a3a54a1d",
   "metadata": {},
   "outputs": [],
   "source": [
    "dL_CC = (1+redshift)*dC"
   ]
  },
  {
   "cell_type": "code",
   "execution_count": 23,
   "id": "bdb26a56",
   "metadata": {},
   "outputs": [],
   "source": [
    "data_CC = { 'z': redshift, 'dl_CC': dL_CC, 'erro_CC': erro_dC}\n",
    "CCPriors = pd.DataFrame(data_CC)"
   ]
  },
  {
   "cell_type": "markdown",
   "id": "4ee1ebb0",
   "metadata": {},
   "source": [
    "# Salvando os dados de SNeIA"
   ]
  },
  {
   "cell_type": "code",
   "execution_count": 27,
   "id": "6ad1eeac",
   "metadata": {},
   "outputs": [],
   "source": [
    "CCPriors.to_csv('Saved Data/CCPriors.csv')\n",
    "PlanckPriors.to_csv('Saved Data/PlanckPriors.csv')\n",
    "RiesPriors.to_csv('Saved Data/RiesPriors.csv')"
   ]
  }
 ],
 "metadata": {
  "kernelspec": {
   "display_name": "Python 3 (ipykernel)",
   "language": "python",
   "name": "python3"
  },
  "language_info": {
   "codemirror_mode": {
    "name": "ipython",
    "version": 3
   },
   "file_extension": ".py",
   "mimetype": "text/x-python",
   "name": "python",
   "nbconvert_exporter": "python",
   "pygments_lexer": "ipython3",
   "version": "3.11.4"
  }
 },
 "nbformat": 4,
 "nbformat_minor": 5
}
